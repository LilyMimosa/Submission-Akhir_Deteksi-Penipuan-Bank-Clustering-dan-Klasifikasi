{
  "nbformat": 4,
  "nbformat_minor": 0,
  "metadata": {
    "colab": {
      "provenance": []
    },
    "kernelspec": {
      "name": "python3",
      "display_name": "Python 3"
    },
    "language_info": {
      "name": "python"
    }
  },
  "cells": [
    {
      "cell_type": "markdown",
      "source": [
        "# **Penting**\n",
        "- Jangan mengubah atau menambahkan cell text yang sudah disediakan, Anda hanya perlu mengerjakan cell code yang sudah disediakan.\n",
        "- Pastikan seluruh kriteria memiliki output yang sesuai, karena jika tidak ada output dianggap tidak selesai.\n",
        "- Misal, Anda menggunakan df = df.dropna() silakan gunakan df.isnull().sum() sebagai tanda sudah berhasil. Silakan sesuaikan seluruh output dengan perintah yang sudah disediakan.\n",
        "- Pastikan Anda melakukan Run All sebelum mengirimkan submission untuk memastikan seluruh cell berjalan dengan baik.\n",
        "- Pastikan Anda menggunakan variabel df dari awal sampai akhir dan tidak diperbolehkan mengganti nama variabel tersebut.\n",
        "- Hapus simbol pagar (#) pada kode yang bertipe komentar jika Anda menerapkan kriteria tambahan\n",
        "- Biarkan simbol pagar (#) jika Anda tidak menerapkan kriteria tambahan\n",
        "- Pastikan Anda mengerjakan sesuai section yang sudah diberikan tanpa mengubah judul atau header yang disediakan."
      ],
      "metadata": {
        "id": "0tvAKGat01Sd"
      }
    },
    {
      "cell_type": "markdown",
      "source": [
        "# **1. Import Library**\n",
        "Pada tahap ini, Anda perlu mengimpor beberapa pustaka (library) Python yang dibutuhkan untuk analisis data dan pembangunan model machine learning."
      ],
      "metadata": {
        "id": "fKADPWcFKlj3"
      }
    },
    {
      "cell_type": "code",
      "source": [
        "#Import Library\n",
        "import pandas as pd\n",
        "import numpy as np\n",
        "from sklearn.preprocessing import MinMaxScaler, LabelEncoder\n",
        "from sklearn.cluster import KMeans\n",
        "from sklearn.model_selection import train_test_split\n",
        "from sklearn.tree import DecisionTreeClassifier\n",
        "from sklearn.metrics import accuracy_score, classification_report, confusion_matrix\n",
        "from sklearn.model_selection import GridSearchCV\n",
        "from yellowbrick.cluster import KElbowVisualizer\n",
        "from sklearn.ensemble import RandomForestClassifier\n",
        "from sklearn.svm import SVC\n",
        "from sklearn.metrics import accuracy_score, precision_score, recall_score, f1_score\n",
        "\n",
        "\n",
        "import joblib\n",
        "import matplotlib.pyplot as plt"
      ],
      "metadata": {
        "id": "BlmvjLY9M4Yj"
      },
      "execution_count": 39,
      "outputs": []
    },
    {
      "cell_type": "markdown",
      "source": [
        "# **2. Memuat Dataset dari Hasil Clustering**\n",
        "Memuat dataset hasil clustering dari file CSV ke dalam variabel DataFrame."
      ],
      "metadata": {
        "id": "f3YIEnAFKrKL"
      }
    },
    {
      "cell_type": "code",
      "source": [
        "# Gunakan dataset hasil clustering yang memiliki fitur Target\n",
        "# Silakan gunakan dataset data_clustering jika tidak menerapkan Interpretasi Hasil Clustering [Advanced]\n",
        "# Silakan gunakan dataset data_clustering_inverse jika menerapkan Interpretasi Hasil Clustering [Advanced]\n",
        "# Lengkapi kode berikut\n",
        "# ___ = pd_read_csv(\"___.csv\")\n",
        "# Memuat Dataset\n",
        "\n",
        "df_clustering = pd.read_csv('data_clustering.csv')\n",
        "df = pd.read_csv('data_clustering.csv')"
      ],
      "metadata": {
        "id": "GHCGNTyrM5fS"
      },
      "execution_count": 40,
      "outputs": []
    },
    {
      "cell_type": "code",
      "source": [
        "# Tampilkan 5 baris pertama dengan function head.\n",
        "print(\"Dataset:\")\n",
        "print(df.head())"
      ],
      "metadata": {
        "id": "bCsep0NZ0LUf",
        "colab": {
          "base_uri": "https://localhost:8080/"
        },
        "outputId": "21ecdfdb-3ce0-49f4-8d63-393125916793"
      },
      "execution_count": 41,
      "outputs": [
        {
          "output_type": "stream",
          "name": "stdout",
          "text": [
            "Dataset:\n",
            "   TransactionAmount  TransactionDate  TransactionType  Location  Channel  \\\n",
            "0           0.007207              680                1        36        0   \n",
            "1           0.195940             1178                1        15        0   \n",
            "2           0.065680             1262                1        23        2   \n",
            "3           0.096016              818                1        33        2   \n",
            "4           0.047888              635                1        28        0   \n",
            "\n",
            "   CustomerAge  CustomerOccupation  TransactionDuration  LoginAttempts  \\\n",
            "0     0.838710                   0             0.244828            0.0   \n",
            "1     0.806452                   0             0.451724            0.0   \n",
            "2     0.016129                   3             0.158621            0.0   \n",
            "3     0.129032                   3             0.051724            0.0   \n",
            "4     0.000000                   3             0.558621            0.0   \n",
            "\n",
            "   AccountBalance  PreviousTransactionDate  Target  \n",
            "0        0.336832                      105       2  \n",
            "1        0.918055                      192       3  \n",
            "2        0.068637                       41       1  \n",
            "3        0.569198                      163       2  \n",
            "4        0.045738                       13       1  \n"
          ]
        }
      ]
    },
    {
      "cell_type": "markdown",
      "source": [
        "# **3. Data Splitting**\n",
        "Tahap Data Splitting bertujuan untuk memisahkan dataset menjadi dua bagian: data latih (training set) dan data uji (test set)."
      ],
      "metadata": {
        "id": "KkPem5eWL2UP"
      }
    },
    {
      "cell_type": "code",
      "source": [
        "# Menggunakan train_test_split() untuk melakukan pembagian dataset.\n",
        "# Data Spliting\n",
        "X = df.drop(['Target', 'TransactionDate', 'PreviousTransactionDate'], axis=1)\n",
        "y = df['Target']\n",
        "X_train, X_test, y_train, y_test = train_test_split(X, y, test_size=0.2, random_state=42)"
      ],
      "metadata": {
        "id": "OubAW-7ONKVj"
      },
      "execution_count": 42,
      "outputs": []
    },
    {
      "cell_type": "markdown",
      "source": [
        "# **4. Membangun Model Klasifikasi**\n",
        "Setelah memilih algoritma klasifikasi yang sesuai, langkah selanjutnya adalah melatih model menggunakan data latih.\n",
        "\n",
        "Berikut adalah rekomendasi tahapannya.\n",
        "1. Menggunakan algoritma klasifikasi yaitu Decision Tree.\n",
        "2. Latih model menggunakan data yang sudah dipisah."
      ],
      "metadata": {
        "id": "IVPbB03CMhTT"
      }
    },
    {
      "cell_type": "code",
      "source": [
        "# Buatlah model klasifikasi menggunakan Decision Tree\n",
        "# Membangun Model Klasifikasi\n",
        "dt = DecisionTreeClassifier()\n",
        "dt.fit(X_train, y_train)\n",
        "y_pred = dt.predict(X_test)\n",
        "\n"
      ],
      "metadata": {
        "id": "4JYxBe87NLDk"
      },
      "execution_count": 43,
      "outputs": []
    },
    {
      "cell_type": "code",
      "source": [
        "# Menyimpan Model\n",
        "# import joblib\n",
        "# joblib.dump(model, 'decision_tree_model.h5')\n",
        "joblib.dump(dt, 'decision_tree_model.h5')"
      ],
      "metadata": {
        "id": "P_AakAxghYv-",
        "colab": {
          "base_uri": "https://localhost:8080/"
        },
        "outputId": "e1f201a2-30fb-43e4-e056-668ad14a4d3c"
      },
      "execution_count": 44,
      "outputs": [
        {
          "output_type": "execute_result",
          "data": {
            "text/plain": [
              "['decision_tree_model.h5']"
            ]
          },
          "metadata": {},
          "execution_count": 44
        }
      ]
    },
    {
      "cell_type": "markdown",
      "source": [
        "# **5. Memenuhi Kriteria Skilled dan Advanced dalam Membangun Model Klasifikasi**\n",
        "\n"
      ],
      "metadata": {
        "id": "epO4HhrzBXMg"
      }
    },
    {
      "cell_type": "markdown",
      "source": [
        "**Biarkan kosong jika tidak menerapkan kriteria skilled atau advanced**"
      ],
      "metadata": {
        "id": "DNOEZk24uiXu"
      }
    },
    {
      "cell_type": "code",
      "source": [
        "# Melatih model menggunakan algoritma klasifikasi scikit-learn selain Decision Tree.\n",
        "# Uji Coba dengan Algoritma Random Forest\n",
        "\n",
        "rf = RandomForestClassifier(n_estimators=100)\n",
        "rf.fit(X_train, y_train)\n",
        "y_pred_rf = rf.predict(X_test)\n",
        "accuracy_rf = accuracy_score(y_test, y_pred_rf)\n",
        "print(\"Accuracy RF:\", accuracy_rf)\n",
        "\n",
        "svm = SVC(kernel='rbf')\n",
        "svm.fit(X_train, y_train)\n",
        "y_pred_svm = svm.predict(X_test)\n",
        "accuracy_svm = accuracy_score(y_test, y_pred_svm)\n",
        "print(\"Accuracy SVM:\", accuracy_svm)"
      ],
      "metadata": {
        "id": "kB_8LIWMATl6",
        "colab": {
          "base_uri": "https://localhost:8080/"
        },
        "outputId": "a2a4bdc1-b01d-42f7-ec5c-766bc8df9cfb"
      },
      "execution_count": 45,
      "outputs": [
        {
          "output_type": "stream",
          "name": "stdout",
          "text": [
            "Accuracy RF: 1.0\n",
            "Accuracy SVM: 1.0\n"
          ]
        }
      ]
    },
    {
      "cell_type": "code",
      "source": [
        "# Menampilkan hasil evaluasi akurasi, presisi, recall, dan F1-Score pada seluruh algoritma yang sudah dibuat.\n",
        "# Membagi data menjadi data latih dan data uji\n",
        "X = df.drop(['Target'], axis=1)\n",
        "y = df['Target']\n",
        "X_train, X_test, y_train, y_test = train_test_split(X, y, test_size=0.2, random_state=42)\n",
        "\n",
        "# Membuat model Random Forest\n",
        "rf = RandomForestClassifier(n_estimators=100, random_state=42)\n",
        "rf.fit(X_train, y_train)\n",
        "\n",
        "# Memprediksi label kelas untuk data uji\n",
        "y_pred = rf.predict(X_test)\n",
        "\n",
        "# Evaluasi model\n",
        "accuracy = accuracy_score(y_test, y_pred)\n",
        "precision = precision_score(y_test, y_pred, average='weighted')\n",
        "recall = recall_score(y_test, y_pred, average='weighted')\n",
        "f1 = f1_score(y_test, y_pred, average='weighted')\n",
        "\n",
        "# Menampilkan hasil evaluasi\n",
        "print(\"Hasil Evaluasi Random Forest:\")\n",
        "print(f\"Akurasi: {accuracy:.3f}\")\n",
        "print(f\"Presisi: {precision:.3f}\")\n",
        "print(f\"Recall: {recall:.3f}\")\n",
        "print(f\"F1-Score: {f1:.3f}\")\n"
      ],
      "metadata": {
        "id": "bRlKm5BVAT91",
        "colab": {
          "base_uri": "https://localhost:8080/"
        },
        "outputId": "f5de172a-518a-4075-fe36-2eb801b1bac6"
      },
      "execution_count": 46,
      "outputs": [
        {
          "output_type": "stream",
          "name": "stdout",
          "text": [
            "Hasil Evaluasi Random Forest:\n",
            "Akurasi: 1.000\n",
            "Presisi: 1.000\n",
            "Recall: 1.000\n",
            "F1-Score: 1.000\n"
          ]
        }
      ]
    },
    {
      "cell_type": "code",
      "source": [
        "# Menyimpan Model Selain Decision Tree\n",
        "# Model ini bisa lebih dari satu\n",
        "# import joblib\n",
        "# joblib.dump(___, 'explore_<Nama Algoritma>_classification.h5')\n",
        "\n",
        "joblib.dump(rf, 'explore_RandomForest_classification.h5')"
      ],
      "metadata": {
        "id": "dUPItkbXBNkO",
        "colab": {
          "base_uri": "https://localhost:8080/"
        },
        "outputId": "ee7d84db-cea4-401e-df54-868b8432f82a"
      },
      "execution_count": 47,
      "outputs": [
        {
          "output_type": "execute_result",
          "data": {
            "text/plain": [
              "['explore_RandomForest_classification.h5']"
            ]
          },
          "metadata": {},
          "execution_count": 47
        }
      ]
    },
    {
      "cell_type": "markdown",
      "source": [
        "Hyperparameter Tuning Model\n",
        "\n",
        "Pilih salah satu algoritma yang ingin Anda tuning"
      ],
      "metadata": {
        "id": "u23H2guj-h9h"
      }
    },
    {
      "cell_type": "code",
      "source": [
        "# Lakukan Hyperparameter Tuning dan Latih ulang.\n",
        "# Lakukan dalam satu cell ini saja."
      ],
      "metadata": {
        "id": "dFCTxJJq-m-l"
      },
      "execution_count": 48,
      "outputs": []
    },
    {
      "cell_type": "code",
      "source": [
        "# Menampilkan hasil evaluasi akurasi, presisi, recall, dan F1-Score pada algoritma yang sudah dituning."
      ],
      "metadata": {
        "id": "1g6EPSSWxjcQ"
      },
      "execution_count": 49,
      "outputs": []
    },
    {
      "cell_type": "code",
      "source": [
        "# Menyimpan Model hasil tuning\n",
        "# import joblib\n",
        "# joblib.dump(__, 'tuning_classification.h5')"
      ],
      "metadata": {
        "id": "7UJNcVP--n7S"
      },
      "execution_count": 50,
      "outputs": []
    },
    {
      "cell_type": "markdown",
      "source": [
        "End of Code"
      ],
      "metadata": {
        "id": "0Hs4Xp4OiGEk"
      }
    }
  ]
}